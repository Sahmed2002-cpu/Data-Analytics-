# Student Performance Analysis

import pandas as pd
import matplotlib.pyplot as plt
import seaborn as sns

# Sample Data (replace this with actual data)
data = {
    'student_id': [1, 2, 3, 4, 5],
    'attendance_rate': [90, 
